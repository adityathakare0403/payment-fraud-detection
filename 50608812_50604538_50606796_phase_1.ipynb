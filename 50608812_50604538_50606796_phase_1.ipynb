{
  "nbformat": 4,
  "nbformat_minor": 0,
  "metadata": {
    "colab": {
      "provenance": []
    },
    "kernelspec": {
      "name": "python3",
      "display_name": "Python 3"
    },
    "language_info": {
      "name": "python"
    }
  },
  "cells": [
    {
      "cell_type": "markdown",
      "source": [
        "Problem Statement : **Data Driven Approach to Payment Fraud Detection**\n",
        "\n",
        "Fraudulent transactions are a major concern; they result in significant financial losses and, more importantly, a loss of consumer trust. The purpose of this research is to thoroughly analyze a huge dataset for patterns and correlations between transaction variables and the possibility of fraud. This research will primarily focus on developing a robust predictive model capable of detecting fraudulent online transactions. It would classify the transactions as fraudulent or not based on numerous attributes in the Transaction Dataset."
      ],
      "metadata": {
        "id": "h_1zfJlhFL8e"
      }
    },
    {
      "cell_type": "code",
      "execution_count": 36,
      "metadata": {
        "id": "K8nAGkjZEiGT"
      },
      "outputs": [],
      "source": [
        "# importing required libraries\n",
        "import zipfile\n",
        "import os\n",
        "import pandas as pd\n",
        "import numpy as np\n",
        "import matplotlib.pyplot as plt\n",
        "import seaborn as sns\n",
        "import warnings\n",
        "warnings.filterwarnings('ignore')"
      ]
    },
    {
      "cell_type": "markdown",
      "source": [
        "Use the below command only if you face error during unipping data."
      ],
      "metadata": {
        "id": "NyCGsx0GHMEt"
      }
    },
    {
      "cell_type": "code",
      "source": [
        "!rm -rf /content/.kaggle/\n",
        "!rm -rf /.kaggle/\n",
        "!rm -rf /root/.kaggle/"
      ],
      "metadata": {
        "id": "UTdafeOyHKZI"
      },
      "execution_count": 37,
      "outputs": []
    },
    {
      "cell_type": "markdown",
      "source": [
        "The below code does the work of downloading a dataset from Kaggle, which is on fraudulent transactions, extracting, and preparing them for analysis. This includes the creation of necessary authentication with the Kaggle API, downloading of the dataset, and loading into a Python environment where further analysis or processing will take place. These steps are absolutely key to the successful analysis of fraudulent transactions in developing insights or models which could be used in fraud detection and mitigation within payments."
      ],
      "metadata": {
        "id": "1qoiVPT1HlLu"
      }
    },
    {
      "cell_type": "code",
      "source": [
        "import os\n",
        "os.makedirs(\"/content/.kaggle/\")\n",
        "\n",
        "import json\n",
        "\n",
        "token = {\"username\":\"adityaashokthakare\",\"key\":\"637d87331a545d565a6a00a70cd1a9d6\"}\n",
        "with open('/content/.kaggle/kaggle.json', 'a+') as file:\n",
        "    json.dump(token, file)\n",
        "\n",
        "import shutil\n",
        "os.makedirs(\"/.kaggle/\")\n",
        "src=\"/content/.kaggle/kaggle.json\"\n",
        "des=\"/.kaggle/kaggle.json\"\n",
        "shutil.copy(src,des)\n",
        "\n",
        "\n",
        "os.makedirs(\"/root/.kaggle/\")\n",
        "!cp /content/.kaggle/kaggle.json ~/.kaggle/kaggle.json\n",
        "\n",
        "!kaggle config set -n path -v /content\n",
        "\n",
        "!kaggle datasets download -d shriyashjagtap/fraudulent-e-commerce-transactions"
      ],
      "metadata": {
        "colab": {
          "base_uri": "https://localhost:8080/"
        },
        "id": "KbhMpVtyHZVm",
        "outputId": "5200b4f7-caf2-47ab-c1d3-d2594b608fc4"
      },
      "execution_count": 38,
      "outputs": [
        {
          "output_type": "stream",
          "name": "stdout",
          "text": [
            "Warning: Your Kaggle API key is readable by other users on this system! To fix this, you can run 'chmod 600 /root/.kaggle/kaggle.json'\n",
            "- path is now set to: /content\n",
            "Warning: Your Kaggle API key is readable by other users on this system! To fix this, you can run 'chmod 600 /root/.kaggle/kaggle.json'\n",
            "Dataset URL: https://www.kaggle.com/datasets/shriyashjagtap/fraudulent-e-commerce-transactions\n",
            "License(s): MIT\n",
            "fraudulent-e-commerce-transactions.zip: Skipping, found more recently modified local copy (use --force to force download)\n"
          ]
        }
      ]
    },
    {
      "cell_type": "markdown",
      "source": [
        "Unzipping the Downloaded Dataset"
      ],
      "metadata": {
        "id": "3Ps1LgvaIDMc"
      }
    },
    {
      "cell_type": "code",
      "source": [
        "# Unzip the dataset\n",
        "zip_path = \"/content/datasets/shriyashjagtap/fraudulent-e-commerce-transactions/fraudulent-e-commerce-transactions.zip\"\n",
        "with zipfile.ZipFile(zip_path, 'r') as zip_ref:\n",
        "    zip_ref.extractall(\"/content/\")\n",
        "\n",
        "# List extracted files\n",
        "extracted_files = os.listdir(\"/content/\")\n",
        "print(extracted_files)\n",
        "\n",
        "# Load the dataset into a pandas dataframe (replace with the correct file name)\n",
        "dataset_path = \"/content/Fraudulent_E-Commerce_Transaction_Data.csv\"  # Use the actual file name from the extracted files\n",
        "df = pd.read_csv(dataset_path)\n",
        "df3 = df\n",
        "# Display the first few rows of the dataset\n",
        "df.head()\n"
      ],
      "metadata": {
        "id": "9cfML-_XIBsF"
      },
      "execution_count": null,
      "outputs": []
    },
    {
      "cell_type": "markdown",
      "source": [
        "**Question 1 Onkar Ramade (50604538) -**\n",
        "\n",
        "\n",
        "---\n",
        "\n",
        "\n",
        "**1. How does transaction behaviour-as represented by amount, frequency, and time of day-relate to the incidence of fraud in e-commerce transactions?**\n",
        "\n",
        "**Significance :** This question focuses on transaction behaviours, crucial in ascertaining fraud dynamics. Knowing how specific characteristics of a transaction relate to fraud might help guide the design in fraud detection systems that flag suspicious activities.\n",
        "\n",
        "**Possible Hypothesis:** The higher the amount of money transacted, the greater the likelihood of fraud.\n",
        "\n",
        "\n",
        "---\n",
        "\n",
        "**Question 2 Onkar Ramade (50604538) -**\n",
        "\n",
        "**2. What are demographic factors, including but not limited to age, location, and method of payment, that signal fraudulent e-commerce transactions?**\n",
        "\n",
        "**Importance:**  By searching out the demographic influences, teams can find patterns in subsets of customers that could elude fraud detection efforts in a more effective and specific manner.\n",
        "\n",
        "**Potential Hypotheses:** Younger customers are most likely to be perpetrators of fraudulent transactions when compared to older customers."
      ],
      "metadata": {
        "id": "ahYhxWXeTiRp"
      }
    },
    {
      "cell_type": "markdown",
      "source": [
        "--------------------------------------------------------------------------"
      ],
      "metadata": {
        "id": "v-cqcX5CXXHi"
      }
    },
    {
      "cell_type": "markdown",
      "source": [
        "--------------------------------------------------------------------------"
      ],
      "metadata": {
        "id": "OKn5t_TVXYhL"
      }
    },
    {
      "cell_type": "markdown",
      "source": [
        "**Question 1 Sourabh Kodag (50606796)** -\n",
        "\n",
        "\n",
        "---\n",
        "1. Is there fraud transaction in uneven hours ?\n",
        "\n",
        "**Rationale Behind the Hypothesis:**\n",
        "\n",
        "Behavioural Patterns: Customers' behaviour also depends on the time of day. Overnight transactions, for example, have less oversight and more anonymity and therefore hold greater potential for fraudulent activities.\n",
        "\n",
        "Operational Factors: Most businesses will be having a skeleton crew during very late or very early hours. These periods will therefore mean that transactions are not monitored as carefully and there is less support to react quickly to suspicious activities.\n",
        "\n",
        "**Importance:**\n",
        "\n",
        "Identifying Behavioural Patterns: Analyzing the time of fraud transactions will relate to the behavioural patterns of fraudsters. Understanding when fraud is most likely to occur means there are familiar tactics against which organizations can adapt their defenses.\n",
        "\n",
        "Operational Improvement: Peak hours of fraud help the organization in optimizing its resources. For instance, if data reflected that most frauds happened after midnight, a company would increase monitoring and fraud detection at such hours to avoid any possible loss.\n",
        "\n",
        "---\n",
        "**Question 2 Sourabh Kodag (50606796)** -\n",
        "2. Is there a relation between account age and fraud ?\n",
        "\n",
        "**Hypothesis Rationale**\n",
        "\n",
        "Lack of Transaction History: New accounts lack transaction history, and no pattern can be established to indicate a trend in legitimate behavior. Fraudsters are normally taking advantage of the lack of history since there are no prior behaviors to which one could compare when assessing legitimacy.\n",
        "\n",
        "Vulnerability to Exploitation: In general, fraudsters may target new accounts since they are less monitored. And most probably, they would have been opened without strict identity verification processes in place. This makes newer accounts the favorite target for fraudsters.\n",
        "likecopy\n",
        "\n",
        "**Importance:**\n",
        "\n",
        "Changes in Business Practice: The findings have many implications for wider business practices, including marketing strategies and customer engagement. For instance, organizations can make promotional offers that incentivize customers to engage when they are on the site, but security measures will be in place.\n",
        "\n",
        "Supporting Regulatory Compliance:Many industries have certain regulations that call for them to put in place methods for fraud prevention. It would also be of significance to an organization in case there are risks related to new accounts to also note them to ensure compliance with the set regulations to avoid probable penalties."
      ],
      "metadata": {
        "id": "uIJ6jjfpVPWj"
      }
    },
    {
      "cell_type": "markdown",
      "source": [
        "--------------------------------------------------------------------------"
      ],
      "metadata": {
        "id": "jGtiPeBKXZvK"
      }
    },
    {
      "cell_type": "markdown",
      "source": [
        "--------------------------------------------------------------------------"
      ],
      "metadata": {
        "id": "DPSCNujkXaIJ"
      }
    },
    {
      "cell_type": "markdown",
      "source": [
        "**Question 1 Aditya Thakare (50608812)** -\n",
        "\n",
        "\n",
        "---\n",
        "\n",
        "**Question 1:** \"Is there a correlation between the customer age and the likelihood of fraud?\"\n",
        "\n",
        "**Why This Question is significant and leading to our object:** Fraud Detection: Understanding the relationship between customer age and fraud can inform better risk assessment models. If fraudulent activities are detected among a population with younger age groups more frequently, then a business could institute additional verification steps for these transactions. Feature Engineering: This customer age can be a critical feature in fraud detection algorithms, especially by enabling the algorithm to create risk profiles. Market Strategies: Knowledge of the age-related pattern of fraud can help organizations in framing appropriate marketing strategies and fraud prevention policy.\n",
        "\n",
        "\n",
        "\n",
        "---\n",
        "**Question 2 Aditya Thakare (50608812)** -\n",
        "\n",
        "**Question 2: **\"Is there a correlation between the payment method used and the likelihood of fraud?\"\n",
        "\n",
        "**How It Leads to Our Objective:**\n",
        "Feature Engineering: Knowing the correlations between fraud and means of payment helps decide which features are most appropriate for fraud detection algorithms. For instance, if credit cards bear the brunt of fraud, then that feature would be amplified in the model.\n",
        "Fraud Prevention: The ability to identify the most risky forms of payments will allow businesses to focus fraud prevention measures on those forms of payments and reduce the overall incidence of fraud.\n",
        "Significance of the Question:\n",
        "Security Measures: The associations between the mode of payments and fraud assist firms in implementing extra security measures around the risky payment types.\n",
        "**Cost Efficiency:** In spotting fraud-related modes of payments, the companies can effectively allocate their resources to further the fraud detection and prevention programs.\n",
        "**Customer Trust:** This enhances customer trust as, with greater clarity on fraudulent ways of making payments, businesses can advise on the use of safer alternatives like PayPal or bank transfers.\n"
      ],
      "metadata": {
        "id": "qYtMpgrEWcE6"
      }
    },
    {
      "cell_type": "markdown",
      "source": [
        " **Data Cleaning**"
      ],
      "metadata": {
        "id": "VDVo719WIOzM"
      }
    },
    {
      "cell_type": "markdown",
      "source": [
        "Handle missing values: In this step, we check for missing values and remove them if found."
      ],
      "metadata": {
        "id": "oawywgHFIMdt"
      }
    },
    {
      "cell_type": "code",
      "source": [
        "df.isnull().sum()\n",
        "df=df.dropna()       #removes rows with null values\n",
        "df1 = df"
      ],
      "metadata": {
        "id": "TVTdcvM8IT4W"
      },
      "execution_count": null,
      "outputs": []
    },
    {
      "cell_type": "code",
      "source": [
        "df.info()            #metadata"
      ],
      "metadata": {
        "id": "x6VRe7z1IV0t"
      },
      "execution_count": null,
      "outputs": []
    },
    {
      "cell_type": "markdown",
      "source": [
        "Correct Data Types: In this step for the date column, we convert it to datetime format if not already."
      ],
      "metadata": {
        "id": "xDD61mEPIfdl"
      }
    },
    {
      "cell_type": "code",
      "source": [
        "df['Transaction Date'] = pd.to_datetime(df['Transaction Date'])"
      ],
      "metadata": {
        "id": "fD0S7PTKIdT2"
      },
      "execution_count": null,
      "outputs": []
    },
    {
      "cell_type": "markdown",
      "source": [
        "Removing undesired duplicate entries: Transactions should be unique as duplicate transactions could skew fraud detection Checking for duplicates based on Transaction ID to ensure data integrity."
      ],
      "metadata": {
        "id": "_VXEUwjQIm5t"
      }
    },
    {
      "cell_type": "code",
      "source": [
        "df.duplicated(subset=['Transaction ID']).sum() #checking duplicate Transaction IDs"
      ],
      "metadata": {
        "id": "9NlyL0dCInel"
      },
      "execution_count": null,
      "outputs": []
    },
    {
      "cell_type": "markdown",
      "source": [
        "Sometimes, addresses have slight variations (like different abbreviations). A string standardization function can help clean up Shipping Address and Billing Address."
      ],
      "metadata": {
        "id": "jt-PQrAEIt29"
      }
    },
    {
      "cell_type": "code",
      "source": [
        "#converting to lower-case\n",
        "df['Shipping Address'] = df['Shipping Address'].str.lower().str.strip()\n",
        "df['Billing Address'] = df['Billing Address'].str.lower().str.strip()"
      ],
      "metadata": {
        "id": "FKPQGwD2IuZt"
      },
      "execution_count": null,
      "outputs": []
    },
    {
      "cell_type": "markdown",
      "source": [
        "Adding necessary features: The transaction date can be broken doen into day of the week which may be useful for detecting fraud patterns."
      ],
      "metadata": {
        "id": "jZ3UTvifIzg-"
      }
    },
    {
      "cell_type": "code",
      "source": [
        "df['Transaction Day'] = df['Transaction Date'].dt.weekday\n",
        "df.head()"
      ],
      "metadata": {
        "id": "NCsZFp0TIwZd"
      },
      "execution_count": null,
      "outputs": []
    },
    {
      "cell_type": "markdown",
      "source": [
        "We identify observed irregularities in the customer age column:"
      ],
      "metadata": {
        "id": "OLBBQTUNI9rX"
      }
    },
    {
      "cell_type": "code",
      "source": [
        "import plotly.express as px\n",
        "\n",
        "fig = px.box(data_frame=df,\n",
        "             x=\"Customer Age\",\n",
        "             title=\"Customer Age Distribution\",\n",
        "             width=600, height=400,\n",
        "             template=\"plotly_dark\")\n",
        "\n",
        "fig.update_layout(\n",
        "    xaxis_title=\"Customer Age\",\n",
        "    yaxis_title=\"Frequency\",\n",
        "    showlegend=False\n",
        ")\n",
        "fig.show()"
      ],
      "metadata": {
        "id": "8BdZozgjI-Ot"
      },
      "execution_count": null,
      "outputs": []
    },
    {
      "cell_type": "markdown",
      "source": [
        "We observe there are some negative values. Assuming them as mistakes we replace\n",
        "them with their absolute values as below:"
      ],
      "metadata": {
        "id": "zy9zjR01JIv1"
      }
    },
    {
      "cell_type": "code",
      "source": [
        "df['Customer Age'] = np.where(df['Customer Age'] < 0, np.abs(df['Customer Age']), df['Customer Age'])"
      ],
      "metadata": {
        "id": "G0i4lkAAJK4H"
      },
      "execution_count": null,
      "outputs": []
    },
    {
      "cell_type": "markdown",
      "source": [
        "We check if the shipping address and billing address are same, to detect\n",
        "possible fraudulent behaviour:"
      ],
      "metadata": {
        "id": "XWLsEk3CJLgd"
      }
    },
    {
      "cell_type": "code",
      "source": [
        "df[\"Is Address Match\"] = (df[\"Shipping Address\"] == df[\"Billing Address\"]).astype(int) #marking 1 for same address and 0 for different"
      ],
      "metadata": {
        "id": "n1CZELSAJPWN"
      },
      "execution_count": null,
      "outputs": []
    },
    {
      "cell_type": "markdown",
      "source": [
        "Reducing dataset size by downcasting: We reduce the dataset size by downcasting all integer and float values. Downcasting helps in reducing the dataset size without actually changing the original values. bold text"
      ],
      "metadata": {
        "id": "OPkNTNvQJVMf"
      }
    },
    {
      "cell_type": "code",
      "source": [
        "integer_cols = df.select_dtypes(include=\"int\").columns   #selecting integer columns\n",
        "float_cols = df.select_dtypes(include=\"float\").columns   #selecting float columns\n",
        "\n",
        "#downcasting\n",
        "df[integer_cols] = df[integer_cols].apply(pd.to_numeric, downcast='integer')\n",
        "df[float_cols] = df[float_cols].apply(pd.to_numeric, downcast='float')"
      ],
      "metadata": {
        "id": "Z7x0KZymJZyN"
      },
      "execution_count": null,
      "outputs": []
    },
    {
      "cell_type": "code",
      "source": [
        "df.info()"
      ],
      "metadata": {
        "id": "-rDzmdRAJd2G"
      },
      "execution_count": null,
      "outputs": []
    },
    {
      "cell_type": "markdown",
      "source": [
        "Thus, we observe our dataset size has significantly reduced by about 130MBs."
      ],
      "metadata": {
        "id": "RGOJEE77Jnre"
      }
    },
    {
      "cell_type": "markdown",
      "source": [
        "**Hypothesis 1** (Onkar : 50604538): Does value of tranasaction increase the likelihood of fraudulent transactions ?"
      ],
      "metadata": {
        "id": "kUB320xBJt1d"
      }
    },
    {
      "cell_type": "code",
      "source": [
        "df['Transaction Amount'].describe()  # Checking for extreme values"
      ],
      "metadata": {
        "id": "wnBzEijUJot9"
      },
      "execution_count": null,
      "outputs": []
    },
    {
      "cell_type": "code",
      "source": [
        "plt.figure(figsize=(10, 5))\n",
        "\n",
        "sns.histplot(df['Transaction Amount'], bins=70)\n",
        "\n",
        "plt.title('Transaction Amount Distribution', fontsize=18)\n",
        "plt.xlabel('Transaction Amount', fontsize=14)\n",
        "plt.ylabel('Frequency of Transactions', fontsize=14)\n",
        "\n",
        "plt.show()"
      ],
      "metadata": {
        "id": "ibBTFStVKI7N"
      },
      "execution_count": null,
      "outputs": []
    },
    {
      "cell_type": "markdown",
      "source": [
        "The transaction amount bins between 0 to 1000 has the highest frequency"
      ],
      "metadata": {
        "id": "sdhlBN2HKShs"
      }
    },
    {
      "cell_type": "code",
      "source": [
        "fraud_groups = df.groupby('Is Fraudulent')\n",
        "feature_mean = fraud_groups['Transaction Amount'].mean()\n",
        "plt.figure(figsize=(8, 8))\n",
        "feature_mean.plot(kind='bar')\n",
        "plt.xlabel('Fraud Status')\n",
        "plt.ylabel('Mean of Transaction Amount')\n",
        "plt.title('Mean of Transaction Amount by Fraud Status')\n",
        "plt.show()"
      ],
      "metadata": {
        "id": "9Fk_DSi4KTD9"
      },
      "execution_count": null,
      "outputs": []
    },
    {
      "cell_type": "markdown",
      "source": [
        "Mean Transaction Amount of Fraudulent Transaction is higher compared to legitimate transactions, which supports our hypothesis."
      ],
      "metadata": {
        "id": "-F4lpzwxKX7t"
      }
    },
    {
      "cell_type": "code",
      "source": [
        "fraud_corr = df[['Transaction Amount', 'Is Fraudulent']].corr()\n",
        "print(fraud_corr)\n",
        "\n",
        "plt.figure(figsize=(6, 4))\n",
        "sns.heatmap(fraud_corr, annot=True, cmap='coolwarm', linewidths=0.5, vmin=-1, vmax=1)\n",
        "plt.title('Correlation Matrix for Transaction Amount and Is Fraudulent')\n",
        "plt.show()"
      ],
      "metadata": {
        "id": "R-z3-jVBKthO"
      },
      "execution_count": null,
      "outputs": []
    },
    {
      "cell_type": "markdown",
      "source": [
        "The correlation output between Transaction Amount and Is Fraudulent shows a positive but weak correlation coefficient of 0.272766. The relationship suggests that higher transaction amounts are more likely to be fraudulent but the strength of the correlation is not very high.\n",
        "\n",
        "It would still be helpful to plot by relationship between Transaction Amount and Fraud likelihood. We aanalyze this further by binning the transaction amount in multiple bins of transaction amount."
      ],
      "metadata": {
        "id": "ENITIYL_K6Et"
      }
    },
    {
      "cell_type": "code",
      "source": [
        "df['Amount Bin'] = pd.cut(df['Transaction Amount'], bins=[0, 100, 200, 400, 600, 1000, 2000], labels=['0-100', '100-200', '200-400', '400-800', '800-1000', '1000-2000'])\n",
        "fraud_rate_by_amount_bin = df.groupby('Amount Bin')['Is Fraudulent'].mean().reset_index()\n",
        "\n",
        "plt.figure(figsize=(10, 6))\n",
        "sns.barplot(x='Amount Bin', y='Is Fraudulent', data=fraud_rate_by_amount_bin)\n",
        "plt.title('Fraud Rate by Transaction Amount Bin')\n",
        "plt.show()"
      ],
      "metadata": {
        "id": "iAQgFNBrK62m"
      },
      "execution_count": null,
      "outputs": []
    },
    {
      "cell_type": "markdown",
      "source": [
        "From the graph we interpret that high value transaction bins have very high chances of fraud, compared to low and medium range bins. This supports our hypothesis that high-value transactions are more susceptible to fraud, likely because they offer higher potential rewards for the fraudster."
      ],
      "metadata": {
        "id": "puiOoEjOLBzs"
      }
    },
    {
      "cell_type": "markdown",
      "source": [
        "Handling the outliers in the Transaction Amount feature"
      ],
      "metadata": {
        "id": "h4nCKn6nLJts"
      }
    },
    {
      "cell_type": "code",
      "source": [
        "Q1 = df['Transaction Amount'].quantile(0.25)\n",
        "Q3 = df['Transaction Amount'].quantile(0.75)\n",
        "IQR = Q3 - Q1\n",
        "\n",
        "lower_bound = Q1 - 1.5 * IQR\n",
        "upper_bound = Q3 + 1.5 * IQR\n",
        "\n",
        "outliers = df[(df['Transaction Amount'] < lower_bound) | (df['Transaction Amount'] > upper_bound)]\n",
        "print(\"Number of outliers detected:\", outliers.shape[0])\n"
      ],
      "metadata": {
        "id": "L6Tw7B9GLMIV"
      },
      "execution_count": null,
      "outputs": []
    },
    {
      "cell_type": "markdown",
      "source": [
        "Capping the outliers to upper and lower bound to limit their impact."
      ],
      "metadata": {
        "id": "1I3xqN7fLYPl"
      }
    },
    {
      "cell_type": "code",
      "source": [
        "df['Transaction Amount'] = np.where(df['Transaction Amount'] > upper_bound, upper_bound, df['Transaction Amount'])\n",
        "df['Transaction Amount'] = np.where(df['Transaction Amount'] < lower_bound, lower_bound, df['Transaction Amount'])"
      ],
      "metadata": {
        "id": "CUCPjjsnLSk2"
      },
      "execution_count": null,
      "outputs": []
    },
    {
      "cell_type": "markdown",
      "source": [
        "**Hypothesis 2 :** Do younger customers have a higher chance of commiting fraud ?"
      ],
      "metadata": {
        "id": "913X52faLsPc"
      }
    },
    {
      "cell_type": "code",
      "source": [
        "fraudulent_transactions = df[df['Is Fraudulent'] == 1]\n",
        "\n",
        "plt.figure(figsize=(12, 6))\n",
        "sns.histplot(fraudulent_transactions['Customer Age'], bins=20, kde=True, color='skyblue')\n",
        "\n",
        "plt.title('Distribution of Customer Age for Fraudulent Transactions')\n",
        "plt.xlabel('Customer Age')\n",
        "plt.ylabel('Frequency')\n",
        "plt.grid()\n",
        "plt.show()"
      ],
      "metadata": {
        "id": "WMw5gUI0MpmO"
      },
      "execution_count": null,
      "outputs": []
    },
    {
      "cell_type": "markdown",
      "source": [
        "Fraudulent transaction are normally distributed across customers of all ages."
      ],
      "metadata": {
        "id": "kikKjt5sM5SN"
      }
    },
    {
      "cell_type": "code",
      "source": [],
      "metadata": {
        "id": "K-RwKGZZQLME"
      },
      "execution_count": null,
      "outputs": []
    },
    {
      "cell_type": "markdown",
      "source": [
        "**Hypothesis 3** : Sourabh Kodag (50606796) - The hypothesis \"Fraudulent transactions vary by hour\" assumes that time could be a factor for fraud. This hypothesis postulates that segments based on the time of day may be vulnerable to fraudulent activities. This analysis will help an organization understand patterns that could indicate the likelihood of fraud at specific times.\n",
        "\n"
      ],
      "metadata": {
        "id": "H4bFLfw7N6bt"
      }
    },
    {
      "cell_type": "code",
      "source": [
        "# Group by Transaction Hour and calculate the fraud rate\n",
        "fraud_hour = df.groupby('Transaction Hour')['Is Fraudulent'].mean().reset_index()\n",
        "\n",
        "# Plot 1: Line plot of Fraud Rate by Transaction Hour\n",
        "plt.figure(figsize=(12, 6))\n",
        "sns.lineplot(x='Transaction Hour', y='Is Fraudulent', data=fraud_hour, marker='o')\n",
        "plt.title('Fraud Rate by Transaction Hour')\n",
        "plt.xlabel('Transaction Hour')\n",
        "plt.ylabel('Fraud Rate')\n",
        "plt.xticks(range(0, 24))\n",
        "plt.show()\n",
        "\n",
        "\n",
        "\n",
        "# Create a pivot table to count fraudulent and non-fraudulent transactions by hour\n",
        "hour_fraud_matrix = df.pivot_table(index='Transaction Hour',\n",
        "                                   columns='Is Fraudulent',\n",
        "                                   aggfunc='size',\n",
        "                                   fill_value=0)\n",
        "\n",
        "# Plot the heatmap\n",
        "plt.figure(figsize=(12, 6))\n",
        "sns.heatmap(hour_fraud_matrix, annot=True, cmap='YlGnBu', fmt='d')\n",
        "\n",
        "plt.title('Heatmap of Fraudulent and Non-Fraudulent Transactions by Hour')\n",
        "plt.xlabel('Fraudulent (0 or 1)')\n",
        "plt.ylabel('Transaction Hour')\n",
        "plt.show()"
      ],
      "metadata": {
        "id": "7nYDrl7gN36l"
      },
      "execution_count": null,
      "outputs": []
    },
    {
      "cell_type": "markdown",
      "source": [
        "**Hypothesis 4 :** Sourabh Kodag (50606796) - This hypothesis therefore assumes that the newer the account, the more likely it is to be fraudulent compared to older, well-established accounts. A detailed explanation of this hypothesis and its importance is provided below.\n",
        "\n"
      ],
      "metadata": {
        "id": "KnK5MrwJOzOM"
      }
    },
    {
      "cell_type": "code",
      "source": [
        "df['Is Fraudulent'] = df['Is Fraudulent'].astype(bool)\n",
        "\n",
        "fraudulent_transactions = df[df['Is Fraudulent'] == True]\n",
        "non_fraudulent_transactions = df[df['Is Fraudulent'] == False]\n",
        "\n",
        "print(\"Fraudulent Transactions Account Age Stats:\")\n",
        "print(fraudulent_transactions['Account Age Days'].describe())\n",
        "\n",
        "print(\"\\nNon-Fraudulent Transactions Account Age Stats:\")\n",
        "print(non_fraudulent_transactions['Account Age Days'].describe())\n",
        "plt.figure(figsize=(10,6))\n",
        "\n",
        "\n",
        "plt.hist(non_fraudulent_transactions['Account Age Days'], bins=20, alpha=0.5, label='Non-Fraudulent', color='green')\n",
        "plt.hist(fraudulent_transactions['Account Age Days'], bins=20, alpha=0.5, label='Fraudulent', color='red')\n",
        "\n",
        "plt.title('Account Age Days Distribution for Fraudulent vs Non-Fraudulent Transactions')\n",
        "plt.xlabel('Account Age Days')\n",
        "plt.ylabel('Number of Transactions')\n",
        "plt.legend()\n",
        "\n",
        "plt.show()\n",
        "\n",
        "\n",
        "plt.figure(figsize=(10,6))\n",
        "df['Fraudulent Label'] = df['Is Fraudulent'].apply(lambda x: 'Fraudulent' if x else 'Non-Fraudulent')\n",
        "\n",
        "sns.boxplot(x='Fraudulent Label', y='Account Age Days', data=df)\n",
        "plt.title('Boxplot of Account Age Days by Fraudulent and Non-Fraudulent Transactions')\n",
        "plt.xlabel('Transaction Type')\n",
        "plt.ylabel('Account Age Days')\n",
        "plt.show()"
      ],
      "metadata": {
        "id": "z9TX8DSkO_vT"
      },
      "execution_count": null,
      "outputs": []
    },
    {
      "cell_type": "markdown",
      "source": [
        "**Hypothesis 5 :** Aditya Thakare (50608812) - \"Is there a correlation between the payment method used and the likelihood of fraud?\"\n",
        "\n",
        "Why This Question is significant and leading to our object: Fraud Detection: Understanding the relationship between customer age and fraud can inform better risk assessment models. If fraudulent activities are detected among a population with younger age groups more frequently, then a business could institute additional verification steps for these transactions. Feature Engineering: This customer age can be a critical feature in fraud detection algorithms, especially by enabling the algorithm to create risk profiles. Market Strategies: Knowledge of the age-related pattern of fraud can help organizations in framing appropriate marketing strategies and fraud prevention policy."
      ],
      "metadata": {
        "id": "X0Vkr4U7RWgb"
      }
    },
    {
      "cell_type": "markdown",
      "source": [
        "**Task 5. for Question1 (Aditya-50608812)**\n",
        "**Hypothesis 5:**\n",
        "Older customers (above 60) are more likely to engage in fraudulent transactions.\n",
        "\n",
        "**EDA Operation** 1: Fraud Rate by Age Group\n",
        "Objective: to find the fraud rate across different age groups and get the variation of fraud likelihood with customer age.\n",
        "\n",
        "**Steps:**\n",
        "Divide into groups according to the age groups.\n",
        "Next, divide the data into age groups and calculate the rate of fraud in each group."
      ],
      "metadata": {
        "id": "lH9RxuwnPtvt"
      }
    },
    {
      "cell_type": "code",
      "source": [
        "bins = [0, 20, 30, 40, 50, 60, 70, 80, 100]\n",
        "labels = ['0-20', '21-30', '31-40', '41-50', '51-60', '61-70', '71-80', '81-100']\n",
        "df['Age_Group'] = pd.cut(df['Customer Age'], bins=bins, labels=labels, right=False)\n",
        "\n",
        "age_group_fraud_rate = df.groupby('Age_Group')['Is Fraudulent'].mean() * 100\n",
        "\n",
        "plt.figure(figsize=(8, 6))\n",
        "sns.barplot(x=age_group_fraud_rate.index, y=age_group_fraud_rate.values)\n",
        "plt.title('Fraud Rate by Customer Age Group')\n",
        "plt.ylabel('Fraud Rate (%)')\n",
        "plt.xlabel('Customer Age Group')\n",
        "plt.show()"
      ],
      "metadata": {
        "id": "bmVTjnHIRemj"
      },
      "execution_count": null,
      "outputs": []
    },
    {
      "cell_type": "markdown",
      "source": [
        "The bar chart displays the fraud rates across different age groups. A higher fraud rate in the older age group (>60) supports the hypothesis that older customers are more likely to engage in fraud."
      ],
      "metadata": {
        "id": "031OSxzJR-IM"
      }
    },
    {
      "cell_type": "markdown",
      "source": [
        "**Task 5. Question 1(Aditya-50608812) Hypothesis 6:** Working younger customers (e.g., between 25-45 years old) are more likely to engage in fraudulent transactions.\n",
        "\n",
        "**EDA operation 2:** Transaction Amount Distribution per Age Group: transaction amount for different age categories for fraudulent transactions.\n",
        "\n",
        "**Steps:** Filter the dataset for fraudulent transactions. Create a Boxplot to Compare Transaction Amount across the defined age groupings:"
      ],
      "metadata": {
        "id": "qnvAd03BSuSL"
      }
    },
    {
      "cell_type": "code",
      "source": [
        "fraudulent_data_1 = df[df['Is Fraudulent'] == 1]\n",
        "\n",
        "plt.figure(figsize=(8, 6))\n",
        "sns.boxplot(x='Age_Group', y='Transaction Amount', data=fraudulent_data_1)\n",
        "plt.title('Transaction Amount Distribution for Fraudulent Transactions by Customer Age Group')\n",
        "plt.ylabel('Transaction Amount')\n",
        "plt.xlabel('Customer Age Group')\n",
        "plt.show()"
      ],
      "metadata": {
        "id": "r68NgZgKS46j"
      },
      "execution_count": null,
      "outputs": []
    },
    {
      "cell_type": "markdown",
      "source": [
        "The box plot will shows how the transaction amounts for fraudulent activities vary across different payment methods. This reveals that higher-value transactions tend to be fraudulent when using certain payment methods-credit/debit cards."
      ],
      "metadata": {
        "id": "YRlR6zH_WmlU"
      }
    },
    {
      "cell_type": "markdown",
      "source": [
        "**Task 5. for Question 2.(Aditya-50608812)**\n",
        "\n",
        "**Hypothesis:**\n",
        "Fraudulent transactions are more likely to occur in higher amount transactions with payment methods that do not require strong authentication (e.g., debit card or credit card vs paypal).\n",
        "\n",
        "**EDA operation:** Fraud Distribution by Transaction Amount for Each Payment Method-"
      ],
      "metadata": {
        "id": "JM35jGz4Xnrp"
      }
    },
    {
      "cell_type": "code",
      "source": [
        "import seaborn as sns\n",
        "\n",
        "# Filter fraudulent transactions\n",
        "fraud_data = df[df['Is Fraudulent'] == 1]\n",
        "\n",
        "# Visualize distribution of transaction amounts for each payment method\n",
        "plt.figure(figsize=(10,6))\n",
        "sns.boxplot(x='Payment Method', y='Transaction Amount', data=fraud_data)\n",
        "plt.title('Distribution of Transaction Amounts in Fraudulent Transactions by Payment Method')\n",
        "plt.ylabel('Transaction Amount')\n",
        "plt.xlabel('Payment Method')\n",
        "plt.xticks(rotation=45)\n",
        "plt.show()"
      ],
      "metadata": {
        "id": "mi6THyr3XqKB"
      },
      "execution_count": null,
      "outputs": []
    },
    {
      "cell_type": "markdown",
      "source": [
        "The box plot will shows how the transaction amounts for fraudulent activities vary across different payment methods. This reveals that higher-value transactions tend to be fraudulent when using certain payment methods-credit/debit cards."
      ],
      "metadata": {
        "id": "wsTChAUyXurC"
      }
    }
  ]
}